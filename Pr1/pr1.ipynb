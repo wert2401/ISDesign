{
  "nbformat": 4,
  "nbformat_minor": 0,
  "metadata": {
    "colab": {
      "name": "pr1.ipynb",
      "provenance": [],
      "collapsed_sections": []
    },
    "kernelspec": {
      "name": "python3",
      "display_name": "Python 3"
    }
  },
  "cells": [
    {
      "cell_type": "markdown",
      "metadata": {
        "id": "OZ1n0M6e4q5x"
      },
      "source": [
        "  ### ФИО: Федоров Илья Сергеевич\r\n",
        "  Группа: КИ19-21Б </br>\r\n",
        "  Дата: 16.02.2021\r\n"
      ]
    },
    {
      "cell_type": "code",
      "metadata": {
        "colab": {
          "base_uri": "https://localhost:8080/"
        },
        "id": "r-i-C8DF4TF4",
        "outputId": "a7c2c49b-9a66-4453-ef2d-4f0efe580e20"
      },
      "source": [
        "print(\"Hello world!\")"
      ],
      "execution_count": null,
      "outputs": [
        {
          "output_type": "stream",
          "text": [
            "Hello world!\n"
          ],
          "name": "stdout"
        }
      ]
    }
  ]
}